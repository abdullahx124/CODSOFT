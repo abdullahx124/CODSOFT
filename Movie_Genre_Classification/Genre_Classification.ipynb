{
 "cells": [
  {
   "cell_type": "code",
   "execution_count": 1,
   "outputs": [],
   "source": [
    "import pandas as pd"
   ],
   "metadata": {
    "collapsed": false,
    "ExecuteTime": {
     "end_time": "2023-10-08T13:19:15.569094900Z",
     "start_time": "2023-10-08T13:19:14.692403700Z"
    }
   }
  },
  {
   "cell_type": "code",
   "execution_count": 2,
   "outputs": [
    {
     "name": "stderr",
     "output_type": "stream",
     "text": [
      "C:\\Users\\ABDULLAH\\AppData\\Local\\Temp\\ipykernel_3320\\589525317.py:1: ParserWarning: Falling back to the 'python' engine because the 'c' engine does not support regex separators (separators > 1 char and different from '\\s+' are interpreted as regex); you can avoid this warning by specifying engine='python'.\n",
      "  train_data = pd.read_csv(\"./Genre Classification Dataset/train_data.txt\",sep=':::', header=None)\n"
     ]
    },
    {
     "data": {
      "text/plain": "          Id                                         Title          Genre  \\\n0          1                 Oscar et la dame rose (2009)          drama    \n1          2                                 Cupid (1997)       thriller    \n2          3             Young, Wild and Wonderful (1980)          adult    \n3          4                        The Secret Sin (1915)          drama    \n4          5                       The Unrecovered (2007)          drama    \n...      ...                                           ...            ...   \n54209  54210                              \"Bonino\" (1953)         comedy    \n54210  54211                  Dead Girls Don't Cry (????)         horror    \n54211  54212    Ronald Goedemondt: Ze bestaan echt (2008)    documentary    \n54212  54213                     Make Your Own Bed (1944)         comedy    \n54213  54214   Nature's Fury: Storm of the Century (2006)        history    \n\n                                             Description  \n0       Listening in to a conversation between his do...  \n1       A brother and sister with a past incestuous r...  \n2       As the bus empties the students for their fie...  \n3       To help their unemployed father make ends mee...  \n4       The film's title refers not only to the un-re...  \n...                                                  ...  \n54209   This short-lived NBC live sitcom centered on ...  \n54210   The NEXT Generation of EXPLOITATION. The sist...  \n54211   Ze bestaan echt, is a stand-up comedy about g...  \n54212   Walter and Vivian live in the country and hav...  \n54213   On Labor Day Weekend, 1935, the most intense ...  \n\n[54214 rows x 4 columns]",
      "text/html": "<div>\n<style scoped>\n    .dataframe tbody tr th:only-of-type {\n        vertical-align: middle;\n    }\n\n    .dataframe tbody tr th {\n        vertical-align: top;\n    }\n\n    .dataframe thead th {\n        text-align: right;\n    }\n</style>\n<table border=\"1\" class=\"dataframe\">\n  <thead>\n    <tr style=\"text-align: right;\">\n      <th></th>\n      <th>Id</th>\n      <th>Title</th>\n      <th>Genre</th>\n      <th>Description</th>\n    </tr>\n  </thead>\n  <tbody>\n    <tr>\n      <th>0</th>\n      <td>1</td>\n      <td>Oscar et la dame rose (2009)</td>\n      <td>drama</td>\n      <td>Listening in to a conversation between his do...</td>\n    </tr>\n    <tr>\n      <th>1</th>\n      <td>2</td>\n      <td>Cupid (1997)</td>\n      <td>thriller</td>\n      <td>A brother and sister with a past incestuous r...</td>\n    </tr>\n    <tr>\n      <th>2</th>\n      <td>3</td>\n      <td>Young, Wild and Wonderful (1980)</td>\n      <td>adult</td>\n      <td>As the bus empties the students for their fie...</td>\n    </tr>\n    <tr>\n      <th>3</th>\n      <td>4</td>\n      <td>The Secret Sin (1915)</td>\n      <td>drama</td>\n      <td>To help their unemployed father make ends mee...</td>\n    </tr>\n    <tr>\n      <th>4</th>\n      <td>5</td>\n      <td>The Unrecovered (2007)</td>\n      <td>drama</td>\n      <td>The film's title refers not only to the un-re...</td>\n    </tr>\n    <tr>\n      <th>...</th>\n      <td>...</td>\n      <td>...</td>\n      <td>...</td>\n      <td>...</td>\n    </tr>\n    <tr>\n      <th>54209</th>\n      <td>54210</td>\n      <td>\"Bonino\" (1953)</td>\n      <td>comedy</td>\n      <td>This short-lived NBC live sitcom centered on ...</td>\n    </tr>\n    <tr>\n      <th>54210</th>\n      <td>54211</td>\n      <td>Dead Girls Don't Cry (????)</td>\n      <td>horror</td>\n      <td>The NEXT Generation of EXPLOITATION. The sist...</td>\n    </tr>\n    <tr>\n      <th>54211</th>\n      <td>54212</td>\n      <td>Ronald Goedemondt: Ze bestaan echt (2008)</td>\n      <td>documentary</td>\n      <td>Ze bestaan echt, is a stand-up comedy about g...</td>\n    </tr>\n    <tr>\n      <th>54212</th>\n      <td>54213</td>\n      <td>Make Your Own Bed (1944)</td>\n      <td>comedy</td>\n      <td>Walter and Vivian live in the country and hav...</td>\n    </tr>\n    <tr>\n      <th>54213</th>\n      <td>54214</td>\n      <td>Nature's Fury: Storm of the Century (2006)</td>\n      <td>history</td>\n      <td>On Labor Day Weekend, 1935, the most intense ...</td>\n    </tr>\n  </tbody>\n</table>\n<p>54214 rows × 4 columns</p>\n</div>"
     },
     "execution_count": 2,
     "metadata": {},
     "output_type": "execute_result"
    }
   ],
   "source": [
    "train_data = pd.read_csv(\"./Genre Classification Dataset/train_data.txt\",sep=':::', header=None)\n",
    "train_data.columns = ['Id','Title','Genre','Description']\n",
    "train_data"
   ],
   "metadata": {
    "collapsed": false,
    "ExecuteTime": {
     "end_time": "2023-10-08T13:19:35.372715200Z",
     "start_time": "2023-10-08T13:19:35.083195400Z"
    }
   }
  },
  {
   "cell_type": "code",
   "execution_count": 3,
   "outputs": [
    {
     "data": {
      "text/plain": "0               drama \n1            thriller \n2               adult \n3               drama \n4               drama \n             ...      \n54209          comedy \n54210          horror \n54211     documentary \n54212          comedy \n54213         history \nName: Genre, Length: 54214, dtype: object"
     },
     "execution_count": 3,
     "metadata": {},
     "output_type": "execute_result"
    }
   ],
   "source": [
    "train_data[\"Genre\"]"
   ],
   "metadata": {
    "collapsed": false,
    "ExecuteTime": {
     "end_time": "2023-10-08T13:21:27.461342700Z",
     "start_time": "2023-10-08T13:21:27.431316200Z"
    }
   }
  },
  {
   "cell_type": "code",
   "execution_count": 4,
   "outputs": [
    {
     "name": "stdout",
     "output_type": "stream",
     "text": [
      "['i', 'me', 'my', 'myself', 'we', 'our', 'ours', 'ourselves', 'you', \"you're\", \"you've\", \"you'll\", \"you'd\", 'your', 'yours', 'yourself', 'yourselves', 'he', 'him', 'his', 'himself', 'she', \"she's\", 'her', 'hers', 'herself', 'it', \"it's\", 'its', 'itself', 'they', 'them', 'their', 'theirs', 'themselves', 'what', 'which', 'who', 'whom', 'this', 'that', \"that'll\", 'these', 'those', 'am', 'is', 'are', 'was', 'were', 'be', 'been', 'being', 'have', 'has', 'had', 'having', 'do', 'does', 'did', 'doing', 'a', 'an', 'the', 'and', 'but', 'if', 'or', 'because', 'as', 'until', 'while', 'of', 'at', 'by', 'for', 'with', 'about', 'against', 'between', 'into', 'through', 'during', 'before', 'after', 'above', 'below', 'to', 'from', 'up', 'down', 'in', 'out', 'on', 'off', 'over', 'under', 'again', 'further', 'then', 'once', 'here', 'there', 'when', 'where', 'why', 'how', 'all', 'any', 'both', 'each', 'few', 'more', 'most', 'other', 'some', 'such', 'no', 'nor', 'not', 'only', 'own', 'same', 'so', 'than', 'too', 'very', 's', 't', 'can', 'will', 'just', 'don', \"don't\", 'should', \"should've\", 'now', 'd', 'll', 'm', 'o', 're', 've', 'y', 'ain', 'aren', \"aren't\", 'couldn', \"couldn't\", 'didn', \"didn't\", 'doesn', \"doesn't\", 'hadn', \"hadn't\", 'hasn', \"hasn't\", 'haven', \"haven't\", 'isn', \"isn't\", 'ma', 'mightn', \"mightn't\", 'mustn', \"mustn't\", 'needn', \"needn't\", 'shan', \"shan't\", 'shouldn', \"shouldn't\", 'wasn', \"wasn't\", 'weren', \"weren't\", 'won', \"won't\", 'wouldn', \"wouldn't\"]\n"
     ]
    },
    {
     "name": "stderr",
     "output_type": "stream",
     "text": [
      "[nltk_data] Downloading package stopwords to\n",
      "[nltk_data]     C:\\Users\\ABDULLAH\\AppData\\Roaming\\nltk_data...\n",
      "[nltk_data]   Package stopwords is already up-to-date!\n"
     ]
    }
   ],
   "source": [
    "import nltk\n",
    "from nltk.corpus import stopwords\n",
    "\n",
    "nltk.download('stopwords')\n",
    "print(stopwords.words('english'))"
   ],
   "metadata": {
    "collapsed": false,
    "ExecuteTime": {
     "end_time": "2023-10-08T13:24:34.984639Z",
     "start_time": "2023-10-08T13:24:31.822102700Z"
    }
   }
  },
  {
   "cell_type": "code",
   "execution_count": 5,
   "outputs": [],
   "source": [
    "import re\n",
    "\n",
    "\n",
    "def preprocess_text(text):\n",
    "\n",
    "    temp = text.lower()\n",
    "    temp = re.sub(\"'\", \"\", temp) # to avoid removing contractions in english\n",
    "    temp = re.sub(\"@[A-Za-z0-9_]+\",\"\", temp)\n",
    "    temp = re.sub(\"#[A-Za-z0-9_]+\",\"\", temp)\n",
    "    temp = re.sub(r'http\\S+', '', temp)\n",
    "    temp = re.sub('[()!?]', ' ', temp)\n",
    "    temp = re.sub('\\[.*?\\]',' ', temp)\n",
    "    temp = re.sub(\"[^a-z0-9]\",\" \", temp)\n",
    "    temp = re.sub(\"rt\",\" \", temp)\n",
    "    temp = temp.split()\n",
    "    temp = [w for w in temp if not w in set(stopwords.words('english'))]\n",
    "    temp = \" \".join(word for word in temp)\n",
    "    return temp"
   ],
   "metadata": {
    "collapsed": false,
    "ExecuteTime": {
     "end_time": "2023-10-08T13:24:47.004201800Z",
     "start_time": "2023-10-08T13:24:46.991690500Z"
    }
   }
  },
  {
   "cell_type": "code",
   "execution_count": 6,
   "outputs": [
    {
     "data": {
      "text/plain": "          Id                                         Title          Genre  \\\n0          1                 Oscar et la dame rose (2009)          drama    \n1          2                                 Cupid (1997)       thriller    \n2          3             Young, Wild and Wonderful (1980)          adult    \n3          4                        The Secret Sin (1915)          drama    \n4          5                       The Unrecovered (2007)          drama    \n...      ...                                           ...            ...   \n54209  54210                              \"Bonino\" (1953)         comedy    \n54210  54211                  Dead Girls Don't Cry (????)         horror    \n54211  54212    Ronald Goedemondt: Ze bestaan echt (2008)    documentary    \n54212  54213                     Make Your Own Bed (1944)         comedy    \n54213  54214   Nature's Fury: Storm of the Century (2006)        history    \n\n                                             Description  \\\n0       Listening in to a conversation between his do...   \n1       A brother and sister with a past incestuous r...   \n2       As the bus empties the students for their fie...   \n3       To help their unemployed father make ends mee...   \n4       The film's title refers not only to the un-re...   \n...                                                  ...   \n54209   This short-lived NBC live sitcom centered on ...   \n54210   The NEXT Generation of EXPLOITATION. The sist...   \n54211   Ze bestaan echt, is a stand-up comedy about g...   \n54212   Walter and Vivian live in the country and hav...   \n54213   On Labor Day Weekend, 1935, the most intense ...   \n\n                                   Processed Description  \n0      listening conversation doctor parents 10 year ...  \n1      brother sister past incestuous relationship cu...  \n2      bus empties students field trip museum natural...  \n3      help unemployed father make ends meet edith tw...  \n4      films title refers un recovered bodies ground ...  \n...                                                  ...  \n54209  sho lived nbc live sitcom centered bonino worl...  \n54210  next generation exploitation sisters kapa bay ...  \n54211  ze bestaan echt stand comedy growing facing fe...  \n54212  walter vivian live country difficult time keep...  \n54213  labor day weekend 1935 intense hurricane ever ...  \n\n[54214 rows x 5 columns]",
      "text/html": "<div>\n<style scoped>\n    .dataframe tbody tr th:only-of-type {\n        vertical-align: middle;\n    }\n\n    .dataframe tbody tr th {\n        vertical-align: top;\n    }\n\n    .dataframe thead th {\n        text-align: right;\n    }\n</style>\n<table border=\"1\" class=\"dataframe\">\n  <thead>\n    <tr style=\"text-align: right;\">\n      <th></th>\n      <th>Id</th>\n      <th>Title</th>\n      <th>Genre</th>\n      <th>Description</th>\n      <th>Processed Description</th>\n    </tr>\n  </thead>\n  <tbody>\n    <tr>\n      <th>0</th>\n      <td>1</td>\n      <td>Oscar et la dame rose (2009)</td>\n      <td>drama</td>\n      <td>Listening in to a conversation between his do...</td>\n      <td>listening conversation doctor parents 10 year ...</td>\n    </tr>\n    <tr>\n      <th>1</th>\n      <td>2</td>\n      <td>Cupid (1997)</td>\n      <td>thriller</td>\n      <td>A brother and sister with a past incestuous r...</td>\n      <td>brother sister past incestuous relationship cu...</td>\n    </tr>\n    <tr>\n      <th>2</th>\n      <td>3</td>\n      <td>Young, Wild and Wonderful (1980)</td>\n      <td>adult</td>\n      <td>As the bus empties the students for their fie...</td>\n      <td>bus empties students field trip museum natural...</td>\n    </tr>\n    <tr>\n      <th>3</th>\n      <td>4</td>\n      <td>The Secret Sin (1915)</td>\n      <td>drama</td>\n      <td>To help their unemployed father make ends mee...</td>\n      <td>help unemployed father make ends meet edith tw...</td>\n    </tr>\n    <tr>\n      <th>4</th>\n      <td>5</td>\n      <td>The Unrecovered (2007)</td>\n      <td>drama</td>\n      <td>The film's title refers not only to the un-re...</td>\n      <td>films title refers un recovered bodies ground ...</td>\n    </tr>\n    <tr>\n      <th>...</th>\n      <td>...</td>\n      <td>...</td>\n      <td>...</td>\n      <td>...</td>\n      <td>...</td>\n    </tr>\n    <tr>\n      <th>54209</th>\n      <td>54210</td>\n      <td>\"Bonino\" (1953)</td>\n      <td>comedy</td>\n      <td>This short-lived NBC live sitcom centered on ...</td>\n      <td>sho lived nbc live sitcom centered bonino worl...</td>\n    </tr>\n    <tr>\n      <th>54210</th>\n      <td>54211</td>\n      <td>Dead Girls Don't Cry (????)</td>\n      <td>horror</td>\n      <td>The NEXT Generation of EXPLOITATION. The sist...</td>\n      <td>next generation exploitation sisters kapa bay ...</td>\n    </tr>\n    <tr>\n      <th>54211</th>\n      <td>54212</td>\n      <td>Ronald Goedemondt: Ze bestaan echt (2008)</td>\n      <td>documentary</td>\n      <td>Ze bestaan echt, is a stand-up comedy about g...</td>\n      <td>ze bestaan echt stand comedy growing facing fe...</td>\n    </tr>\n    <tr>\n      <th>54212</th>\n      <td>54213</td>\n      <td>Make Your Own Bed (1944)</td>\n      <td>comedy</td>\n      <td>Walter and Vivian live in the country and hav...</td>\n      <td>walter vivian live country difficult time keep...</td>\n    </tr>\n    <tr>\n      <th>54213</th>\n      <td>54214</td>\n      <td>Nature's Fury: Storm of the Century (2006)</td>\n      <td>history</td>\n      <td>On Labor Day Weekend, 1935, the most intense ...</td>\n      <td>labor day weekend 1935 intense hurricane ever ...</td>\n    </tr>\n  </tbody>\n</table>\n<p>54214 rows × 5 columns</p>\n</div>"
     },
     "execution_count": 6,
     "metadata": {},
     "output_type": "execute_result"
    }
   ],
   "source": [
    "train_data['Processed Description'] = train_data['Description'].apply(preprocess_text)\n",
    "train_data"
   ],
   "metadata": {
    "collapsed": false,
    "ExecuteTime": {
     "end_time": "2023-10-08T13:41:03.025328600Z",
     "start_time": "2023-10-08T13:25:26.938587200Z"
    }
   }
  },
  {
   "cell_type": "code",
   "execution_count": 7,
   "outputs": [],
   "source": [
    "training_sentences = list(train_data[\"Processed Description\"])"
   ],
   "metadata": {
    "collapsed": false,
    "ExecuteTime": {
     "end_time": "2023-10-08T13:42:21.482440500Z",
     "start_time": "2023-10-08T13:42:21.458419900Z"
    }
   }
  },
  {
   "cell_type": "code",
   "execution_count": 8,
   "outputs": [
    {
     "data": {
      "text/plain": "54214"
     },
     "execution_count": 8,
     "metadata": {},
     "output_type": "execute_result"
    }
   ],
   "source": [
    "len(training_sentences)"
   ],
   "metadata": {
    "collapsed": false,
    "ExecuteTime": {
     "end_time": "2023-10-08T13:42:34.951909700Z",
     "start_time": "2023-10-08T13:42:34.939899600Z"
    }
   }
  },
  {
   "cell_type": "code",
   "execution_count": 13,
   "outputs": [
    {
     "name": "stdout",
     "output_type": "stream",
     "text": [
      "[' drama ' ' thriller ' ' adult ' ' documentary ' ' comedy ' ' crime '\n",
      " ' reality-tv ' ' horror ' ' sport ' ' animation ' ' action ' ' fantasy '\n",
      " ' short ' ' sci-fi ' ' music ' ' adventure ' ' talk-show ' ' western '\n",
      " ' family ' ' mystery ' ' history ' ' news ' ' biography ' ' romance '\n",
      " ' game-show ' ' musical ' ' war ']\n"
     ]
    }
   ],
   "source": [
    "labels = train_data[\"Genre\"].unique()\n",
    "print(labels)"
   ],
   "metadata": {
    "collapsed": false,
    "ExecuteTime": {
     "end_time": "2023-10-08T13:50:53.443352100Z",
     "start_time": "2023-10-08T13:50:53.430340700Z"
    }
   }
  },
  {
   "cell_type": "code",
   "execution_count": 17,
   "outputs": [
    {
     "data": {
      "text/plain": "          Id                                         Title          Genre  \\\n0          1                 Oscar et la dame rose (2009)          drama    \n1          2                                 Cupid (1997)       thriller    \n2          3             Young, Wild and Wonderful (1980)          adult    \n3          4                        The Secret Sin (1915)          drama    \n4          5                       The Unrecovered (2007)          drama    \n...      ...                                           ...            ...   \n54209  54210                              \"Bonino\" (1953)         comedy    \n54210  54211                  Dead Girls Don't Cry (????)         horror    \n54211  54212    Ronald Goedemondt: Ze bestaan echt (2008)    documentary    \n54212  54213                     Make Your Own Bed (1944)         comedy    \n54213  54214   Nature's Fury: Storm of the Century (2006)        history    \n\n                                             Description  \\\n0       Listening in to a conversation between his do...   \n1       A brother and sister with a past incestuous r...   \n2       As the bus empties the students for their fie...   \n3       To help their unemployed father make ends mee...   \n4       The film's title refers not only to the un-re...   \n...                                                  ...   \n54209   This short-lived NBC live sitcom centered on ...   \n54210   The NEXT Generation of EXPLOITATION. The sist...   \n54211   Ze bestaan echt, is a stand-up comedy about g...   \n54212   Walter and Vivian live in the country and hav...   \n54213   On Labor Day Weekend, 1935, the most intense ...   \n\n                                   Processed Description  Numeric_Label  \n0      listening conversation doctor parents 10 year ...              1  \n1      brother sister past incestuous relationship cu...              2  \n2      bus empties students field trip museum natural...              3  \n3      help unemployed father make ends meet edith tw...              1  \n4      films title refers un recovered bodies ground ...              1  \n...                                                  ...            ...  \n54209  sho lived nbc live sitcom centered bonino worl...              5  \n54210  next generation exploitation sisters kapa bay ...              8  \n54211  ze bestaan echt stand comedy growing facing fe...              4  \n54212  walter vivian live country difficult time keep...              5  \n54213  labor day weekend 1935 intense hurricane ever ...             21  \n\n[54214 rows x 6 columns]",
      "text/html": "<div>\n<style scoped>\n    .dataframe tbody tr th:only-of-type {\n        vertical-align: middle;\n    }\n\n    .dataframe tbody tr th {\n        vertical-align: top;\n    }\n\n    .dataframe thead th {\n        text-align: right;\n    }\n</style>\n<table border=\"1\" class=\"dataframe\">\n  <thead>\n    <tr style=\"text-align: right;\">\n      <th></th>\n      <th>Id</th>\n      <th>Title</th>\n      <th>Genre</th>\n      <th>Description</th>\n      <th>Processed Description</th>\n      <th>Numeric_Label</th>\n    </tr>\n  </thead>\n  <tbody>\n    <tr>\n      <th>0</th>\n      <td>1</td>\n      <td>Oscar et la dame rose (2009)</td>\n      <td>drama</td>\n      <td>Listening in to a conversation between his do...</td>\n      <td>listening conversation doctor parents 10 year ...</td>\n      <td>1</td>\n    </tr>\n    <tr>\n      <th>1</th>\n      <td>2</td>\n      <td>Cupid (1997)</td>\n      <td>thriller</td>\n      <td>A brother and sister with a past incestuous r...</td>\n      <td>brother sister past incestuous relationship cu...</td>\n      <td>2</td>\n    </tr>\n    <tr>\n      <th>2</th>\n      <td>3</td>\n      <td>Young, Wild and Wonderful (1980)</td>\n      <td>adult</td>\n      <td>As the bus empties the students for their fie...</td>\n      <td>bus empties students field trip museum natural...</td>\n      <td>3</td>\n    </tr>\n    <tr>\n      <th>3</th>\n      <td>4</td>\n      <td>The Secret Sin (1915)</td>\n      <td>drama</td>\n      <td>To help their unemployed father make ends mee...</td>\n      <td>help unemployed father make ends meet edith tw...</td>\n      <td>1</td>\n    </tr>\n    <tr>\n      <th>4</th>\n      <td>5</td>\n      <td>The Unrecovered (2007)</td>\n      <td>drama</td>\n      <td>The film's title refers not only to the un-re...</td>\n      <td>films title refers un recovered bodies ground ...</td>\n      <td>1</td>\n    </tr>\n    <tr>\n      <th>...</th>\n      <td>...</td>\n      <td>...</td>\n      <td>...</td>\n      <td>...</td>\n      <td>...</td>\n      <td>...</td>\n    </tr>\n    <tr>\n      <th>54209</th>\n      <td>54210</td>\n      <td>\"Bonino\" (1953)</td>\n      <td>comedy</td>\n      <td>This short-lived NBC live sitcom centered on ...</td>\n      <td>sho lived nbc live sitcom centered bonino worl...</td>\n      <td>5</td>\n    </tr>\n    <tr>\n      <th>54210</th>\n      <td>54211</td>\n      <td>Dead Girls Don't Cry (????)</td>\n      <td>horror</td>\n      <td>The NEXT Generation of EXPLOITATION. The sist...</td>\n      <td>next generation exploitation sisters kapa bay ...</td>\n      <td>8</td>\n    </tr>\n    <tr>\n      <th>54211</th>\n      <td>54212</td>\n      <td>Ronald Goedemondt: Ze bestaan echt (2008)</td>\n      <td>documentary</td>\n      <td>Ze bestaan echt, is a stand-up comedy about g...</td>\n      <td>ze bestaan echt stand comedy growing facing fe...</td>\n      <td>4</td>\n    </tr>\n    <tr>\n      <th>54212</th>\n      <td>54213</td>\n      <td>Make Your Own Bed (1944)</td>\n      <td>comedy</td>\n      <td>Walter and Vivian live in the country and hav...</td>\n      <td>walter vivian live country difficult time keep...</td>\n      <td>5</td>\n    </tr>\n    <tr>\n      <th>54213</th>\n      <td>54214</td>\n      <td>Nature's Fury: Storm of the Century (2006)</td>\n      <td>history</td>\n      <td>On Labor Day Weekend, 1935, the most intense ...</td>\n      <td>labor day weekend 1935 intense hurricane ever ...</td>\n      <td>21</td>\n    </tr>\n  </tbody>\n</table>\n<p>54214 rows × 6 columns</p>\n</div>"
     },
     "execution_count": 17,
     "metadata": {},
     "output_type": "execute_result"
    }
   ],
   "source": [
    "labels = train_data[\"Genre\"].unique()\n",
    "label_mapping = {}\n",
    "for i, label in enumerate(labels):\n",
    "    label_mapping[label] = i + 1\n",
    "\n",
    "train_data['Numeric_Label'] = train_data['Genre'].map(label_mapping)\n",
    "train_data"
   ],
   "metadata": {
    "collapsed": false,
    "ExecuteTime": {
     "end_time": "2023-10-08T14:01:01.926596300Z",
     "start_time": "2023-10-08T14:01:01.890894800Z"
    }
   }
  },
  {
   "cell_type": "code",
   "execution_count": 19,
   "outputs": [],
   "source": [
    "training_labels = list(train_data[\"Numeric_Label\"])"
   ],
   "metadata": {
    "collapsed": false,
    "ExecuteTime": {
     "end_time": "2023-10-08T14:02:30.193787100Z",
     "start_time": "2023-10-08T14:02:30.188782900Z"
    }
   }
  },
  {
   "cell_type": "code",
   "execution_count": 29,
   "outputs": [
    {
     "name": "stdout",
     "output_type": "stream",
     "text": [
      "Maximum review length: 1614\n"
     ]
    }
   ],
   "source": [
    "review_lengths = [len(review.split()) for review in training_sentences]\n",
    "\n",
    "# Find the maximum length among all reviews\n",
    "max_review_length = max(review_lengths)\n",
    "\n",
    "# Print the maximum review length\n",
    "print(\"Maximum review length:\", max_review_length)"
   ],
   "metadata": {
    "collapsed": false,
    "ExecuteTime": {
     "end_time": "2023-10-08T14:55:07.229047600Z",
     "start_time": "2023-10-08T14:55:07.084428100Z"
    }
   }
  },
  {
   "cell_type": "code",
   "execution_count": 31,
   "outputs": [
    {
     "name": "stdout",
     "output_type": "stream",
     "text": [
      "Maximum review length: 1614\n",
      "Index of maximum length review: 43784\n"
     ]
    }
   ],
   "source": [
    "review_lengths = [len(review.split()) for review in training_sentences]\n",
    "\n",
    "# Find the maximum length among all reviews\n",
    "max_review_length = max(review_lengths)\n",
    "\n",
    "# Find the index of the review with the maximum length\n",
    "index_of_max_length = review_lengths.index(max_review_length)\n",
    "\n",
    "# Print the maximum review length and its index\n",
    "print(\"Maximum review length:\", max_review_length)\n",
    "print(\"Index of maximum length review:\", index_of_max_length)"
   ],
   "metadata": {
    "collapsed": false,
    "ExecuteTime": {
     "end_time": "2023-10-08T14:59:04.601568800Z",
     "start_time": "2023-10-08T14:59:04.451440Z"
    }
   }
  },
  {
   "cell_type": "code",
   "execution_count": 32,
   "outputs": [
    {
     "name": "stdout",
     "output_type": "stream",
     "text": [
      "number of words in word_index: 125160\n",
      "Maximum Length :  1614\n",
      "Tweet: jai r alis en 2009 un film sur mon p intitul gratien g linas un g ant aux pieds dargile gr ce aux archives jai pu faire revivre celui que lon surnommait le p du th tre qu b cois il tait c dix ans auparavant et dans les derni res ann es de sa vie il avait perdu tout contact avec la r alit alors quil tait encore lucide je nai jamais pris le temps de capter sa parole sa r flexion sur la vie en mars 2011 la seconde pouse de mon p la com dienne huguette oligny alors g e de 89 ans quittait son appa ement pour aller vivre en r sidence je connaissais huguette depuis pr de 50 ans apr le c de elle est entr e dans vie et au fil du temps jai nou avec elle une relation intime et chaleureuse je craignais que confront e au racinement de lentr e en r sidence elle perde la force de vivre au contraire sentant la mo proche belle ressenti ce passage comme une lib ration et sa vision des choses sest transform e sa parole aussi gag e de lautocensure quelle tait longtemps impos e dentr e de jeu elle fait cette r v lation tonnante jai pass le temps lon veut tellement para tre para tre non cest fini je ne veux plus quand est jeune cest tr impo ant mais quand est tr vieux quon un pied dans la tombe quasiment para tre pour quoi pour qui non para tre cest termin pour moi ch com dienne navait plus dimage fendre elle tait pass e de lautre c du miroir elle parlait sans tour de sa foi de ses souffrances pass es de ses amours mais su de son profond go de vivre de la sentir sereine transparente lumineuse profond ment touch et je suis demand si ce miracle serait possible devant une cam ra afin que dautres que moi puissent couvrir le sourire de celle qui la fin de sa vie se sentait la plus heureuse du monde un tournage intime presque secret alors lors de mes visites pendant dix huit mois jinstallais rapidement cam ra et micro sentant que le temps tait compt je mavan ais sur une glace tr mince avec une vieille dame qui avait j un pied dans l ternit comprenait elle que je faisais un film cela lui impo ait peu elle profitait de chaque instant pass avec moi elle maimait comme maurait aim elle mouvrait son coeur et jy couvrais son ind fectible amour de la vie malgr les preuves qui lavaient marqu e pour cette com dienne qui avait souvent incarn des r les de la maternit tait devenue un calvaire lorsquelle avait priv e de ses enfants pendant neuf ans et cela elle nen avait jamais parl publiquement avec laccord de ses enfants anne et jean alexandre jai pu r v ler un pass familial douloureux qui avait laiss des traces sil tait maintenant loin derri cette qu te intime dautres voix se sont ajout es celle de son amie denfance l crivaine marguerite lescop qui 97 ans fait la preuve que l nergie et la passion nont pas ge que lamiti na pas de fin celles de fran oise faucher fran oise graton janine sutto gilles pelletier et g rard poirier qui mont rappel la fragilit du souvenir que laisse un com dien apr avoir peupl notre imaginaire pendant plus dun demi si cle et combien il nest pas facile de quitter un tier qui vous passionne toujours durant ces rencontres tourn es par mon ami le cin aste fran ois lalibe je ressentais une grande fie de recueillir leur parole fo e pr cise color e travers eux javais autant limpression de filmer notre histoire collective que celle de belle huguette durant ce tournage il eu des instants de pur bonheur comme la couve e de cette lodie compos e par andr mathieu pour sa muse huguette il en tait tomb amoureux en 1943 et lui avait envoy une lettre crite sur une po e quelle recevrait 65 ans plus tard un moment motion rare pour la premi fois gr ce au pianiste alain lef vre jai pu entendre avec huguette un homme qui dit en notes lamour quil pour une femme la vieillesse nest pas toujours triomphante et jai voulu la montrer pour ce quelle est sans maquillage pou ant l aussi des miracles se produisent apr avoir r sist de tout son tre lentr e en r sidence huguette conquise par le magnifique rocher quelle voyait de sa fen tre et il est devenu un ami qui elle parlait tous les jours javais en te la magnifique chanson de sylvie tremblay je chanterai pour elles une caresse dans les cheveux blancs de celles qui ont berc nos enfances et je recevais en cadeau un vibrant message despoir essentiel enveloppant comme la chaleur des braises oui jai film l ge de braise de ch com dienne elle est c e trois mois plus tard l ge de 91 ans je lui laisse le mot de la fin mon pascal temb te que je tappelle comme tu nes pas nimpo e qui tu es tr pr cieux pour moi je te parle comme mon enfant avec v rit du meilleur coeur je suis l ge que jai un ge plus que respectable la femme la plus heureuse du monde je suis compl tement heureuse je nage dans le bonheur l ge convient parfaitement quand arrive dans la vieillesse se rend compte que la vie est tellement cou e tellement br tellement pleine et alors donner de beaux jeunes gens comme toi le go de vivre quelle plus belle r compense est ce que je peux esp rer de la vie la vie la vie quel cadeau que la vie hein cest incommensurable quest ce quon attend pour tre heureux pascal g linas r alis huguette oligny le go de vivre un film mont par josiane lapointe et produit par pauline voisard des productions triangle il rempo le prix de la meilleure biographie au 31e fifa montr al il est distribu par radio canada huguette oligny 1922 2013 n e montr al en 1922 dune fran aise devenue journaliste et crivaine odette ot oligny et dun p qu b cois l opold oligny qui sest enr l volontairement durant la premi guerre huguette oligny peine 20 ans lorsquelle commence sa carri au th tre elle est mont e sur toutes les sc nes du qu bec et du canada mais aussi sur celles de new york de chicago de paris de bruxelles et dautres villes europ ennes elle jou le r pe oire classique des racine moli claudel tchekhov strindberg lorca ainsi que le r pe oire des buts de notre dramaturgie qu b coise celui des yves th riault marcel dub gratien g linas michel tremblay fran oise loranger dans les ann es 40 et 50 elle joue avec l quipe les compagnons de saint laurent et pa icipe aux buts du th tre du nouveau monde en 1968 son interpr tation de b r nice au tnm est consid r e comme lun des grands moments de sa carri au cin elle bute en 1950 avec les lumi res de ville de jean yves bigras puis kamouraska 1972 de claude jutras et le soleil se l en retard 1977 dandr brassard suivront les anne claire poirier denis h roux claude fournier carole laure stella goulet la l vision la voit dans les plouffes de roger lemelin puis dans de nombreux l th tres et l romans comme rue des pignons tro boulot dodo monsieur le ministre radio canada le clan beaulieu et belle rive l tropole en 1952 elle pouse marcel alexandre un mariage qui se brisera en 1965 la privant de ses enfants pendant neuf ans en 1973 elle pouse en secondes noces le dramaturge gratien g linas pr c demment elle avait parcouru tout le pays avec lui jouant en anglais dans deux de ses pi ces tit coq et hier les enfants dansaient la fin des ann es 80 elle refait une tourn e pancanadienne avec gratien interpr tant plus de 500 fois dans les deux langues la passion de narcisse mondoux la derni pi ce de son mari avec qui elle ne vit alors plus mais qui est demeur son compagnon de sc ne des ann es 80 jusquaux ann es 2000 elle demeure tr active et fend des r les morables notamment celui dalbe ine dans albe ine en cinq temps de michel tremblay mise en sc ne par andr brassard elle joue galement dans equus de peter shaffer oncle vania de tchekhov le bateau pour lipa dalexis arbuzov en 2000 elle cr e le r le qui couronne sa carri celui de la dame de cent ans de fran oise loranger solo quelle jouera plus de 100 fois travers le qu bec en 2003 elle est de la distribution dau bout du fil develyne de la cheneli tout au long de sa carri huguette oligny u de nombreux honneurs en 1952 elle est lue miss radio l vision elle rempo e ensuite sept reprises le troph e de la meilleure com dienne canadienne de langue fran aise de lann e en 1984 elle est nomm e officier de lordre du canada puis compagnon de lordre du canada en 1997 et officier de lordre national du qu bec en 1999 elle c de outremont le 9 mai 2013 l ge de 91 ans texte r dig pour le dossier de presse du film huguette oligny le go de vivre\n",
      "padded sequence: [ 8775   884 12648 ...    51   180 11157]\n",
      "\n"
     ]
    }
   ],
   "source": [
    "from tensorflow.keras.preprocessing.text import Tokenizer\n",
    "from tensorflow.keras.preprocessing.sequence import pad_sequences\n",
    "\n",
    "vocab_size = 125160\n",
    "max_length = 1614\n",
    "trunc_type='post'\n",
    "oov_tok = \"<OOV>\"\n",
    "\n",
    "# Initialize the Tokenizer class\n",
    "tokenizer = Tokenizer(oov_token=\"<OOV>\", lower=False)\n",
    "\n",
    "# Generate the word index dictionary\n",
    "tokenizer.fit_on_texts(training_sentences)\n",
    "\n",
    "word_index = tokenizer.word_index\n",
    "print(f'number of words in word_index: {len(word_index)}')\n",
    "\n",
    "\n",
    "print(\"Maximum Length : \", max_length)\n",
    "\n",
    "# Generate and pad the sequences\n",
    "sequences = tokenizer.texts_to_sequences(training_sentences)\n",
    "padded = pad_sequences(sequences,maxlen=max_length, truncating='post')\n",
    "\n",
    "\n",
    "index = 43784\n",
    "print(f'Description: {training_sentences[index]}')\n",
    "print(f'padded sequence: {padded[index]}')\n",
    "print()\n",
    "\n"
   ],
   "metadata": {
    "collapsed": false,
    "ExecuteTime": {
     "end_time": "2023-10-08T14:59:16.257883200Z",
     "start_time": "2023-10-08T14:59:12.941029900Z"
    }
   }
  },
  {
   "cell_type": "markdown",
   "source": [
    "## Random_Forest_Classifier"
   ],
   "metadata": {
    "collapsed": false
   }
  },
  {
   "cell_type": "code",
   "execution_count": 46,
   "outputs": [],
   "source": [
    "from sklearn.ensemble import RandomForestClassifier"
   ],
   "metadata": {
    "collapsed": false,
    "ExecuteTime": {
     "end_time": "2023-10-08T15:13:06.217906800Z",
     "start_time": "2023-10-08T15:13:05.869149500Z"
    }
   }
  },
  {
   "cell_type": "code",
   "execution_count": 47,
   "outputs": [],
   "source": [
    "rfc = RandomForestClassifier()"
   ],
   "metadata": {
    "collapsed": false,
    "ExecuteTime": {
     "end_time": "2023-10-08T15:13:06.355806500Z",
     "start_time": "2023-10-08T15:13:06.352803200Z"
    }
   }
  },
  {
   "cell_type": "code",
   "execution_count": 48,
   "outputs": [
    {
     "data": {
      "text/plain": "RandomForestClassifier()",
      "text/html": "<style>#sk-container-id-2 {color: black;}#sk-container-id-2 pre{padding: 0;}#sk-container-id-2 div.sk-toggleable {background-color: white;}#sk-container-id-2 label.sk-toggleable__label {cursor: pointer;display: block;width: 100%;margin-bottom: 0;padding: 0.3em;box-sizing: border-box;text-align: center;}#sk-container-id-2 label.sk-toggleable__label-arrow:before {content: \"▸\";float: left;margin-right: 0.25em;color: #696969;}#sk-container-id-2 label.sk-toggleable__label-arrow:hover:before {color: black;}#sk-container-id-2 div.sk-estimator:hover label.sk-toggleable__label-arrow:before {color: black;}#sk-container-id-2 div.sk-toggleable__content {max-height: 0;max-width: 0;overflow: hidden;text-align: left;background-color: #f0f8ff;}#sk-container-id-2 div.sk-toggleable__content pre {margin: 0.2em;color: black;border-radius: 0.25em;background-color: #f0f8ff;}#sk-container-id-2 input.sk-toggleable__control:checked~div.sk-toggleable__content {max-height: 200px;max-width: 100%;overflow: auto;}#sk-container-id-2 input.sk-toggleable__control:checked~label.sk-toggleable__label-arrow:before {content: \"▾\";}#sk-container-id-2 div.sk-estimator input.sk-toggleable__control:checked~label.sk-toggleable__label {background-color: #d4ebff;}#sk-container-id-2 div.sk-label input.sk-toggleable__control:checked~label.sk-toggleable__label {background-color: #d4ebff;}#sk-container-id-2 input.sk-hidden--visually {border: 0;clip: rect(1px 1px 1px 1px);clip: rect(1px, 1px, 1px, 1px);height: 1px;margin: -1px;overflow: hidden;padding: 0;position: absolute;width: 1px;}#sk-container-id-2 div.sk-estimator {font-family: monospace;background-color: #f0f8ff;border: 1px dotted black;border-radius: 0.25em;box-sizing: border-box;margin-bottom: 0.5em;}#sk-container-id-2 div.sk-estimator:hover {background-color: #d4ebff;}#sk-container-id-2 div.sk-parallel-item::after {content: \"\";width: 100%;border-bottom: 1px solid gray;flex-grow: 1;}#sk-container-id-2 div.sk-label:hover label.sk-toggleable__label {background-color: #d4ebff;}#sk-container-id-2 div.sk-serial::before {content: \"\";position: absolute;border-left: 1px solid gray;box-sizing: border-box;top: 0;bottom: 0;left: 50%;z-index: 0;}#sk-container-id-2 div.sk-serial {display: flex;flex-direction: column;align-items: center;background-color: white;padding-right: 0.2em;padding-left: 0.2em;position: relative;}#sk-container-id-2 div.sk-item {position: relative;z-index: 1;}#sk-container-id-2 div.sk-parallel {display: flex;align-items: stretch;justify-content: center;background-color: white;position: relative;}#sk-container-id-2 div.sk-item::before, #sk-container-id-2 div.sk-parallel-item::before {content: \"\";position: absolute;border-left: 1px solid gray;box-sizing: border-box;top: 0;bottom: 0;left: 50%;z-index: -1;}#sk-container-id-2 div.sk-parallel-item {display: flex;flex-direction: column;z-index: 1;position: relative;background-color: white;}#sk-container-id-2 div.sk-parallel-item:first-child::after {align-self: flex-end;width: 50%;}#sk-container-id-2 div.sk-parallel-item:last-child::after {align-self: flex-start;width: 50%;}#sk-container-id-2 div.sk-parallel-item:only-child::after {width: 0;}#sk-container-id-2 div.sk-dashed-wrapped {border: 1px dashed gray;margin: 0 0.4em 0.5em 0.4em;box-sizing: border-box;padding-bottom: 0.4em;background-color: white;}#sk-container-id-2 div.sk-label label {font-family: monospace;font-weight: bold;display: inline-block;line-height: 1.2em;}#sk-container-id-2 div.sk-label-container {text-align: center;}#sk-container-id-2 div.sk-container {/* jupyter's `normalize.less` sets `[hidden] { display: none; }` but bootstrap.min.css set `[hidden] { display: none !important; }` so we also need the `!important` here to be able to override the default hidden behavior on the sphinx rendered scikit-learn.org. See: https://github.com/scikit-learn/scikit-learn/issues/21755 */display: inline-block !important;position: relative;}#sk-container-id-2 div.sk-text-repr-fallback {display: none;}</style><div id=\"sk-container-id-2\" class=\"sk-top-container\"><div class=\"sk-text-repr-fallback\"><pre>RandomForestClassifier()</pre><b>In a Jupyter environment, please rerun this cell to show the HTML representation or trust the notebook. <br />On GitHub, the HTML representation is unable to render, please try loading this page with nbviewer.org.</b></div><div class=\"sk-container\" hidden><div class=\"sk-item\"><div class=\"sk-estimator sk-toggleable\"><input class=\"sk-toggleable__control sk-hidden--visually\" id=\"sk-estimator-id-2\" type=\"checkbox\" checked><label for=\"sk-estimator-id-2\" class=\"sk-toggleable__label sk-toggleable__label-arrow\">RandomForestClassifier</label><div class=\"sk-toggleable__content\"><pre>RandomForestClassifier()</pre></div></div></div></div></div>"
     },
     "execution_count": 48,
     "metadata": {},
     "output_type": "execute_result"
    }
   ],
   "source": [
    "rfc.fit(X_train, Y_train)"
   ],
   "metadata": {
    "collapsed": false,
    "ExecuteTime": {
     "end_time": "2023-10-08T15:13:48.757529500Z",
     "start_time": "2023-10-08T15:13:08.867256300Z"
    }
   }
  },
  {
   "cell_type": "code",
   "execution_count": 49,
   "outputs": [
    {
     "name": "stdout",
     "output_type": "stream",
     "text": [
      "[4 1 4 ... 1 1 1]\n"
     ]
    }
   ],
   "source": [
    "RF_clf_model_Predicitions = rfc.predict(X_test)\n",
    "print(RF_clf_model_Predicitions)"
   ],
   "metadata": {
    "collapsed": false,
    "ExecuteTime": {
     "end_time": "2023-10-08T15:13:49.284982900Z",
     "start_time": "2023-10-08T15:13:48.759531Z"
    }
   }
  },
  {
   "cell_type": "code",
   "execution_count": 50,
   "outputs": [
    {
     "name": "stdout",
     "output_type": "stream",
     "text": [
      "\n",
      "-------------> Random_Forest_Classifier Classification REPORT <-------------\n",
      "\n",
      "              precision    recall  f1-score   support\n",
      "\n",
      "           1       0.30      0.64      0.41      2697\n",
      "           2       0.00      0.00      0.00       309\n",
      "           3       1.00      0.01      0.02       112\n",
      "           4       0.30      0.53      0.38      2659\n",
      "           5       0.16      0.03      0.05      1443\n",
      "           6       0.00      0.00      0.00       107\n",
      "           7       0.00      0.00      0.00       192\n",
      "           8       0.00      0.00      0.00       431\n",
      "           9       0.00      0.00      0.00        93\n",
      "          10       0.00      0.00      0.00       104\n",
      "          11       0.00      0.00      0.00       263\n",
      "          12       0.00      0.00      0.00        74\n",
      "          13       0.23      0.01      0.03      1045\n",
      "          14       0.00      0.00      0.00       143\n",
      "          15       0.75      0.02      0.04       144\n",
      "          16       0.00      0.00      0.00       139\n",
      "          17       1.00      0.02      0.05        81\n",
      "          18       0.00      0.00      0.00       200\n",
      "          19       1.00      0.03      0.05       150\n",
      "          20       0.00      0.00      0.00        56\n",
      "          21       0.00      0.00      0.00        45\n",
      "          22       0.00      0.00      0.00        34\n",
      "          23       0.00      0.00      0.00        61\n",
      "          24       0.00      0.00      0.00       151\n",
      "          25       1.00      0.03      0.05        40\n",
      "          26       0.00      0.00      0.00        50\n",
      "          27       0.00      0.00      0.00        20\n",
      "\n",
      "    accuracy                           0.30     10843\n",
      "   macro avg       0.21      0.05      0.04     10843\n",
      "weighted avg       0.24      0.30      0.21     10843\n",
      "\n"
     ]
    },
    {
     "name": "stderr",
     "output_type": "stream",
     "text": [
      "C:\\Users\\ABDULLAH\\.conda\\envs\\Task_1\\lib\\site-packages\\sklearn\\metrics\\_classification.py:1469: UndefinedMetricWarning: Precision and F-score are ill-defined and being set to 0.0 in labels with no predicted samples. Use `zero_division` parameter to control this behavior.\n",
      "  _warn_prf(average, modifier, msg_start, len(result))\n",
      "C:\\Users\\ABDULLAH\\.conda\\envs\\Task_1\\lib\\site-packages\\sklearn\\metrics\\_classification.py:1469: UndefinedMetricWarning: Precision and F-score are ill-defined and being set to 0.0 in labels with no predicted samples. Use `zero_division` parameter to control this behavior.\n",
      "  _warn_prf(average, modifier, msg_start, len(result))\n",
      "C:\\Users\\ABDULLAH\\.conda\\envs\\Task_1\\lib\\site-packages\\sklearn\\metrics\\_classification.py:1469: UndefinedMetricWarning: Precision and F-score are ill-defined and being set to 0.0 in labels with no predicted samples. Use `zero_division` parameter to control this behavior.\n",
      "  _warn_prf(average, modifier, msg_start, len(result))\n"
     ]
    }
   ],
   "source": [
    "print(\"\\n-------------> Random_Forest_Classifier Classification REPORT <-------------\\n\")\n",
    "print(classification_report(Y_test, RF_clf_model_Predicitions))"
   ],
   "metadata": {
    "collapsed": false,
    "ExecuteTime": {
     "end_time": "2023-10-08T15:13:49.345533100Z",
     "start_time": "2023-10-08T15:13:49.285482900Z"
    }
   }
  },
  {
   "cell_type": "code",
   "execution_count": 51,
   "outputs": [
    {
     "name": "stdout",
     "output_type": "stream",
     "text": [
      "Random_Forest_Classifier Model Accuaracy is:29%.\n"
     ]
    }
   ],
   "source": [
    "RF_clf_accuracy = accuracy_score(Y_test,RF_clf_model_Predicitions)\n",
    "print(f\"Random_Forest_Classifier Model Accuaracy is:{int(RF_clf_accuracy*100)}%.\")"
   ],
   "metadata": {
    "collapsed": false,
    "ExecuteTime": {
     "end_time": "2023-10-08T15:13:49.354041200Z",
     "start_time": "2023-10-08T15:13:49.318010700Z"
    }
   }
  },
  {
   "cell_type": "markdown",
   "source": [
    "## Decision_Tree_Classifier"
   ],
   "metadata": {
    "collapsed": false
   }
  },
  {
   "cell_type": "code",
   "execution_count": 52,
   "outputs": [],
   "source": [
    "from sklearn.tree import DecisionTreeClassifier"
   ],
   "metadata": {
    "collapsed": false,
    "ExecuteTime": {
     "end_time": "2023-10-08T15:18:56.419204200Z",
     "start_time": "2023-10-08T15:18:56.403303600Z"
    }
   }
  },
  {
   "cell_type": "code",
   "execution_count": 53,
   "outputs": [],
   "source": [
    "D_Tree_clf = DecisionTreeClassifier(criterion='entropy' ,random_state = 3)"
   ],
   "metadata": {
    "collapsed": false,
    "ExecuteTime": {
     "end_time": "2023-10-08T15:18:56.848392100Z",
     "start_time": "2023-10-08T15:18:56.833878300Z"
    }
   }
  },
  {
   "cell_type": "code",
   "execution_count": 54,
   "outputs": [
    {
     "data": {
      "text/plain": "DecisionTreeClassifier(criterion='entropy', random_state=3)",
      "text/html": "<style>#sk-container-id-3 {color: black;}#sk-container-id-3 pre{padding: 0;}#sk-container-id-3 div.sk-toggleable {background-color: white;}#sk-container-id-3 label.sk-toggleable__label {cursor: pointer;display: block;width: 100%;margin-bottom: 0;padding: 0.3em;box-sizing: border-box;text-align: center;}#sk-container-id-3 label.sk-toggleable__label-arrow:before {content: \"▸\";float: left;margin-right: 0.25em;color: #696969;}#sk-container-id-3 label.sk-toggleable__label-arrow:hover:before {color: black;}#sk-container-id-3 div.sk-estimator:hover label.sk-toggleable__label-arrow:before {color: black;}#sk-container-id-3 div.sk-toggleable__content {max-height: 0;max-width: 0;overflow: hidden;text-align: left;background-color: #f0f8ff;}#sk-container-id-3 div.sk-toggleable__content pre {margin: 0.2em;color: black;border-radius: 0.25em;background-color: #f0f8ff;}#sk-container-id-3 input.sk-toggleable__control:checked~div.sk-toggleable__content {max-height: 200px;max-width: 100%;overflow: auto;}#sk-container-id-3 input.sk-toggleable__control:checked~label.sk-toggleable__label-arrow:before {content: \"▾\";}#sk-container-id-3 div.sk-estimator input.sk-toggleable__control:checked~label.sk-toggleable__label {background-color: #d4ebff;}#sk-container-id-3 div.sk-label input.sk-toggleable__control:checked~label.sk-toggleable__label {background-color: #d4ebff;}#sk-container-id-3 input.sk-hidden--visually {border: 0;clip: rect(1px 1px 1px 1px);clip: rect(1px, 1px, 1px, 1px);height: 1px;margin: -1px;overflow: hidden;padding: 0;position: absolute;width: 1px;}#sk-container-id-3 div.sk-estimator {font-family: monospace;background-color: #f0f8ff;border: 1px dotted black;border-radius: 0.25em;box-sizing: border-box;margin-bottom: 0.5em;}#sk-container-id-3 div.sk-estimator:hover {background-color: #d4ebff;}#sk-container-id-3 div.sk-parallel-item::after {content: \"\";width: 100%;border-bottom: 1px solid gray;flex-grow: 1;}#sk-container-id-3 div.sk-label:hover label.sk-toggleable__label {background-color: #d4ebff;}#sk-container-id-3 div.sk-serial::before {content: \"\";position: absolute;border-left: 1px solid gray;box-sizing: border-box;top: 0;bottom: 0;left: 50%;z-index: 0;}#sk-container-id-3 div.sk-serial {display: flex;flex-direction: column;align-items: center;background-color: white;padding-right: 0.2em;padding-left: 0.2em;position: relative;}#sk-container-id-3 div.sk-item {position: relative;z-index: 1;}#sk-container-id-3 div.sk-parallel {display: flex;align-items: stretch;justify-content: center;background-color: white;position: relative;}#sk-container-id-3 div.sk-item::before, #sk-container-id-3 div.sk-parallel-item::before {content: \"\";position: absolute;border-left: 1px solid gray;box-sizing: border-box;top: 0;bottom: 0;left: 50%;z-index: -1;}#sk-container-id-3 div.sk-parallel-item {display: flex;flex-direction: column;z-index: 1;position: relative;background-color: white;}#sk-container-id-3 div.sk-parallel-item:first-child::after {align-self: flex-end;width: 50%;}#sk-container-id-3 div.sk-parallel-item:last-child::after {align-self: flex-start;width: 50%;}#sk-container-id-3 div.sk-parallel-item:only-child::after {width: 0;}#sk-container-id-3 div.sk-dashed-wrapped {border: 1px dashed gray;margin: 0 0.4em 0.5em 0.4em;box-sizing: border-box;padding-bottom: 0.4em;background-color: white;}#sk-container-id-3 div.sk-label label {font-family: monospace;font-weight: bold;display: inline-block;line-height: 1.2em;}#sk-container-id-3 div.sk-label-container {text-align: center;}#sk-container-id-3 div.sk-container {/* jupyter's `normalize.less` sets `[hidden] { display: none; }` but bootstrap.min.css set `[hidden] { display: none !important; }` so we also need the `!important` here to be able to override the default hidden behavior on the sphinx rendered scikit-learn.org. See: https://github.com/scikit-learn/scikit-learn/issues/21755 */display: inline-block !important;position: relative;}#sk-container-id-3 div.sk-text-repr-fallback {display: none;}</style><div id=\"sk-container-id-3\" class=\"sk-top-container\"><div class=\"sk-text-repr-fallback\"><pre>DecisionTreeClassifier(criterion=&#x27;entropy&#x27;, random_state=3)</pre><b>In a Jupyter environment, please rerun this cell to show the HTML representation or trust the notebook. <br />On GitHub, the HTML representation is unable to render, please try loading this page with nbviewer.org.</b></div><div class=\"sk-container\" hidden><div class=\"sk-item\"><div class=\"sk-estimator sk-toggleable\"><input class=\"sk-toggleable__control sk-hidden--visually\" id=\"sk-estimator-id-3\" type=\"checkbox\" checked><label for=\"sk-estimator-id-3\" class=\"sk-toggleable__label sk-toggleable__label-arrow\">DecisionTreeClassifier</label><div class=\"sk-toggleable__content\"><pre>DecisionTreeClassifier(criterion=&#x27;entropy&#x27;, random_state=3)</pre></div></div></div></div></div>"
     },
     "execution_count": 54,
     "metadata": {},
     "output_type": "execute_result"
    }
   ],
   "source": [
    "D_Tree_clf.fit(X_train, Y_train)"
   ],
   "metadata": {
    "collapsed": false,
    "ExecuteTime": {
     "end_time": "2023-10-08T15:19:18.620065800Z",
     "start_time": "2023-10-08T15:18:58.248861800Z"
    }
   }
  },
  {
   "cell_type": "code",
   "execution_count": 55,
   "outputs": [
    {
     "name": "stdout",
     "output_type": "stream",
     "text": [
      "[4 4 4 ... 1 4 1]\n"
     ]
    }
   ],
   "source": [
    "DT_clf_model_Predicitions = D_Tree_clf.predict(X_test)\n",
    "print(DT_clf_model_Predicitions)"
   ],
   "metadata": {
    "collapsed": false,
    "ExecuteTime": {
     "end_time": "2023-10-08T15:19:18.689625700Z",
     "start_time": "2023-10-08T15:19:18.622066900Z"
    }
   }
  },
  {
   "cell_type": "code",
   "execution_count": 56,
   "outputs": [
    {
     "name": "stdout",
     "output_type": "stream",
     "text": [
      "\n",
      "-------------> Decision_Tree_Classifier Classification REPORT <-------------\n",
      "\n",
      "              precision    recall  f1-score   support\n",
      "\n",
      "           1       0.27      0.26      0.27      2697\n",
      "           2       0.04      0.05      0.04       309\n",
      "           3       0.02      0.03      0.02       112\n",
      "           4       0.27      0.26      0.26      2659\n",
      "           5       0.13      0.13      0.13      1443\n",
      "           6       0.00      0.00      0.00       107\n",
      "           7       0.01      0.01      0.01       192\n",
      "           8       0.04      0.05      0.04       431\n",
      "           9       0.03      0.03      0.03        93\n",
      "          10       0.01      0.01      0.01       104\n",
      "          11       0.02      0.02      0.02       263\n",
      "          12       0.02      0.01      0.02        74\n",
      "          13       0.10      0.09      0.10      1045\n",
      "          14       0.01      0.01      0.01       143\n",
      "          15       0.03      0.03      0.03       144\n",
      "          16       0.02      0.02      0.02       139\n",
      "          17       0.02      0.02      0.02        81\n",
      "          18       0.03      0.04      0.03       200\n",
      "          19       0.06      0.07      0.06       150\n",
      "          20       0.00      0.00      0.00        56\n",
      "          21       0.00      0.00      0.00        45\n",
      "          22       0.00      0.00      0.00        34\n",
      "          23       0.02      0.02      0.02        61\n",
      "          24       0.01      0.01      0.01       151\n",
      "          25       0.02      0.03      0.02        40\n",
      "          26       0.00      0.00      0.00        50\n",
      "          27       0.00      0.00      0.00        20\n",
      "\n",
      "    accuracy                           0.16     10843\n",
      "   macro avg       0.04      0.04      0.04     10843\n",
      "weighted avg       0.17      0.16      0.16     10843\n",
      "\n"
     ]
    }
   ],
   "source": [
    "print(\"\\n-------------> Decision_Tree_Classifier Classification REPORT <-------------\\n\")\n",
    "print(classification_report(Y_test, DT_clf_model_Predicitions))"
   ],
   "metadata": {
    "collapsed": false,
    "ExecuteTime": {
     "end_time": "2023-10-08T15:19:18.725156700Z",
     "start_time": "2023-10-08T15:19:18.683119900Z"
    }
   }
  },
  {
   "cell_type": "code",
   "execution_count": 57,
   "outputs": [
    {
     "name": "stdout",
     "output_type": "stream",
     "text": [
      "Decision_Tree_Classifier Model Accuaracy is:16%.\n"
     ]
    }
   ],
   "source": [
    "DT_clf_accuracy = accuracy_score(Y_test,DT_clf_model_Predicitions)\n",
    "print(f\"Decision_Tree_Classifier Model Accuaracy is:{int(DT_clf_accuracy*100)}%.\")"
   ],
   "metadata": {
    "collapsed": false,
    "ExecuteTime": {
     "end_time": "2023-10-08T15:19:18.732663400Z",
     "start_time": "2023-10-08T15:19:18.715648600Z"
    }
   }
  },
  {
   "cell_type": "markdown",
   "source": [
    "## Logistic Regression Classifier"
   ],
   "metadata": {
    "collapsed": false
   }
  },
  {
   "cell_type": "code",
   "execution_count": 58,
   "outputs": [],
   "source": [
    "from sklearn.linear_model import LogisticRegression"
   ],
   "metadata": {
    "collapsed": false,
    "ExecuteTime": {
     "end_time": "2023-10-08T15:20:56.885881700Z",
     "start_time": "2023-10-08T15:20:56.871869Z"
    }
   }
  },
  {
   "cell_type": "code",
   "execution_count": 59,
   "outputs": [],
   "source": [
    "lg = LogisticRegression(multi_class='ovr')"
   ],
   "metadata": {
    "collapsed": false,
    "ExecuteTime": {
     "end_time": "2023-10-08T15:21:06.625770Z",
     "start_time": "2023-10-08T15:21:06.612257100Z"
    }
   }
  },
  {
   "cell_type": "code",
   "execution_count": 60,
   "outputs": [
    {
     "name": "stderr",
     "output_type": "stream",
     "text": [
      "C:\\Users\\ABDULLAH\\.conda\\envs\\Task_1\\lib\\site-packages\\sklearn\\linear_model\\_logistic.py:460: ConvergenceWarning: lbfgs failed to converge (status=1):\n",
      "STOP: TOTAL NO. of ITERATIONS REACHED LIMIT.\n",
      "\n",
      "Increase the number of iterations (max_iter) or scale the data as shown in:\n",
      "    https://scikit-learn.org/stable/modules/preprocessing.html\n",
      "Please also refer to the documentation for alternative solver options:\n",
      "    https://scikit-learn.org/stable/modules/linear_model.html#logistic-regression\n",
      "  n_iter_i = _check_optimize_result(\n"
     ]
    },
    {
     "data": {
      "text/plain": "LogisticRegression(multi_class='ovr')",
      "text/html": "<style>#sk-container-id-4 {color: black;}#sk-container-id-4 pre{padding: 0;}#sk-container-id-4 div.sk-toggleable {background-color: white;}#sk-container-id-4 label.sk-toggleable__label {cursor: pointer;display: block;width: 100%;margin-bottom: 0;padding: 0.3em;box-sizing: border-box;text-align: center;}#sk-container-id-4 label.sk-toggleable__label-arrow:before {content: \"▸\";float: left;margin-right: 0.25em;color: #696969;}#sk-container-id-4 label.sk-toggleable__label-arrow:hover:before {color: black;}#sk-container-id-4 div.sk-estimator:hover label.sk-toggleable__label-arrow:before {color: black;}#sk-container-id-4 div.sk-toggleable__content {max-height: 0;max-width: 0;overflow: hidden;text-align: left;background-color: #f0f8ff;}#sk-container-id-4 div.sk-toggleable__content pre {margin: 0.2em;color: black;border-radius: 0.25em;background-color: #f0f8ff;}#sk-container-id-4 input.sk-toggleable__control:checked~div.sk-toggleable__content {max-height: 200px;max-width: 100%;overflow: auto;}#sk-container-id-4 input.sk-toggleable__control:checked~label.sk-toggleable__label-arrow:before {content: \"▾\";}#sk-container-id-4 div.sk-estimator input.sk-toggleable__control:checked~label.sk-toggleable__label {background-color: #d4ebff;}#sk-container-id-4 div.sk-label input.sk-toggleable__control:checked~label.sk-toggleable__label {background-color: #d4ebff;}#sk-container-id-4 input.sk-hidden--visually {border: 0;clip: rect(1px 1px 1px 1px);clip: rect(1px, 1px, 1px, 1px);height: 1px;margin: -1px;overflow: hidden;padding: 0;position: absolute;width: 1px;}#sk-container-id-4 div.sk-estimator {font-family: monospace;background-color: #f0f8ff;border: 1px dotted black;border-radius: 0.25em;box-sizing: border-box;margin-bottom: 0.5em;}#sk-container-id-4 div.sk-estimator:hover {background-color: #d4ebff;}#sk-container-id-4 div.sk-parallel-item::after {content: \"\";width: 100%;border-bottom: 1px solid gray;flex-grow: 1;}#sk-container-id-4 div.sk-label:hover label.sk-toggleable__label {background-color: #d4ebff;}#sk-container-id-4 div.sk-serial::before {content: \"\";position: absolute;border-left: 1px solid gray;box-sizing: border-box;top: 0;bottom: 0;left: 50%;z-index: 0;}#sk-container-id-4 div.sk-serial {display: flex;flex-direction: column;align-items: center;background-color: white;padding-right: 0.2em;padding-left: 0.2em;position: relative;}#sk-container-id-4 div.sk-item {position: relative;z-index: 1;}#sk-container-id-4 div.sk-parallel {display: flex;align-items: stretch;justify-content: center;background-color: white;position: relative;}#sk-container-id-4 div.sk-item::before, #sk-container-id-4 div.sk-parallel-item::before {content: \"\";position: absolute;border-left: 1px solid gray;box-sizing: border-box;top: 0;bottom: 0;left: 50%;z-index: -1;}#sk-container-id-4 div.sk-parallel-item {display: flex;flex-direction: column;z-index: 1;position: relative;background-color: white;}#sk-container-id-4 div.sk-parallel-item:first-child::after {align-self: flex-end;width: 50%;}#sk-container-id-4 div.sk-parallel-item:last-child::after {align-self: flex-start;width: 50%;}#sk-container-id-4 div.sk-parallel-item:only-child::after {width: 0;}#sk-container-id-4 div.sk-dashed-wrapped {border: 1px dashed gray;margin: 0 0.4em 0.5em 0.4em;box-sizing: border-box;padding-bottom: 0.4em;background-color: white;}#sk-container-id-4 div.sk-label label {font-family: monospace;font-weight: bold;display: inline-block;line-height: 1.2em;}#sk-container-id-4 div.sk-label-container {text-align: center;}#sk-container-id-4 div.sk-container {/* jupyter's `normalize.less` sets `[hidden] { display: none; }` but bootstrap.min.css set `[hidden] { display: none !important; }` so we also need the `!important` here to be able to override the default hidden behavior on the sphinx rendered scikit-learn.org. See: https://github.com/scikit-learn/scikit-learn/issues/21755 */display: inline-block !important;position: relative;}#sk-container-id-4 div.sk-text-repr-fallback {display: none;}</style><div id=\"sk-container-id-4\" class=\"sk-top-container\"><div class=\"sk-text-repr-fallback\"><pre>LogisticRegression(multi_class=&#x27;ovr&#x27;)</pre><b>In a Jupyter environment, please rerun this cell to show the HTML representation or trust the notebook. <br />On GitHub, the HTML representation is unable to render, please try loading this page with nbviewer.org.</b></div><div class=\"sk-container\" hidden><div class=\"sk-item\"><div class=\"sk-estimator sk-toggleable\"><input class=\"sk-toggleable__control sk-hidden--visually\" id=\"sk-estimator-id-4\" type=\"checkbox\" checked><label for=\"sk-estimator-id-4\" class=\"sk-toggleable__label sk-toggleable__label-arrow\">LogisticRegression</label><div class=\"sk-toggleable__content\"><pre>LogisticRegression(multi_class=&#x27;ovr&#x27;)</pre></div></div></div></div></div>"
     },
     "execution_count": 60,
     "metadata": {},
     "output_type": "execute_result"
    }
   ],
   "source": [
    "lg.fit(X_train, Y_train)"
   ],
   "metadata": {
    "collapsed": false,
    "ExecuteTime": {
     "end_time": "2023-10-08T15:24:05.987640400Z",
     "start_time": "2023-10-08T15:21:29.626051Z"
    }
   }
  },
  {
   "cell_type": "code",
   "execution_count": 61,
   "outputs": [
    {
     "name": "stdout",
     "output_type": "stream",
     "text": [
      "[1 1 4 ... 4 1 1]\n"
     ]
    }
   ],
   "source": [
    "LG_clf_model_Predicitions = lg.predict(X_test)\n",
    "print(LG_clf_model_Predicitions)"
   ],
   "metadata": {
    "collapsed": false,
    "ExecuteTime": {
     "end_time": "2023-10-08T15:24:06.064987800Z",
     "start_time": "2023-10-08T15:24:06.019949400Z"
    }
   }
  },
  {
   "cell_type": "code",
   "execution_count": 62,
   "outputs": [
    {
     "name": "stdout",
     "output_type": "stream",
     "text": [
      "\n",
      "-------------> Logistic_Regression_Classifier Classification REPORT <-------------\n",
      "\n",
      "              precision    recall  f1-score   support\n",
      "\n",
      "           1       0.26      0.70      0.38      2697\n",
      "           2       0.00      0.00      0.00       309\n",
      "           3       0.00      0.00      0.00       112\n",
      "           4       0.27      0.35      0.31      2659\n",
      "           5       0.18      0.01      0.02      1443\n",
      "           6       0.00      0.00      0.00       107\n",
      "           7       0.00      0.00      0.00       192\n",
      "           8       0.09      0.00      0.00       431\n",
      "           9       0.00      0.00      0.00        93\n",
      "          10       0.00      0.00      0.00       104\n",
      "          11       0.09      0.00      0.01       263\n",
      "          12       0.00      0.00      0.00        74\n",
      "          13       0.10      0.00      0.00      1045\n",
      "          14       0.00      0.00      0.00       143\n",
      "          15       0.00      0.00      0.00       144\n",
      "          16       0.00      0.00      0.00       139\n",
      "          17       0.00      0.00      0.00        81\n",
      "          18       0.05      0.01      0.01       200\n",
      "          19       0.00      0.00      0.00       150\n",
      "          20       0.00      0.00      0.00        56\n",
      "          21       0.00      0.00      0.00        45\n",
      "          22       0.00      0.00      0.00        34\n",
      "          23       0.00      0.00      0.00        61\n",
      "          24       0.00      0.00      0.00       151\n",
      "          25       0.00      0.00      0.00        40\n",
      "          26       0.00      0.00      0.00        50\n",
      "          27       0.00      0.00      0.00        20\n",
      "\n",
      "    accuracy                           0.26     10843\n",
      "   macro avg       0.04      0.04      0.03     10843\n",
      "weighted avg       0.17      0.26      0.17     10843\n",
      "\n"
     ]
    }
   ],
   "source": [
    "print(\"\\n-------------> Logistic_Regression_Classifier Classification REPORT <-------------\\n\")\n",
    "print(classification_report(Y_test, LG_clf_model_Predicitions))"
   ],
   "metadata": {
    "collapsed": false,
    "ExecuteTime": {
     "end_time": "2023-10-08T15:27:09.779308900Z",
     "start_time": "2023-10-08T15:27:09.727298Z"
    }
   }
  },
  {
   "cell_type": "code",
   "execution_count": 63,
   "outputs": [
    {
     "name": "stdout",
     "output_type": "stream",
     "text": [
      "Decision_Tree_Classifier Model Accuaracy is:25%.\n"
     ]
    }
   ],
   "source": [
    "DT_clf_accuracy = accuracy_score(Y_test,LG_clf_model_Predicitions)\n",
    "print(f\"Decision_Tree_Classifier Model Accuaracy is:{int(DT_clf_accuracy*100)}%.\")"
   ],
   "metadata": {
    "collapsed": false,
    "ExecuteTime": {
     "end_time": "2023-10-08T15:27:12.403629100Z",
     "start_time": "2023-10-08T15:27:12.387114800Z"
    }
   }
  },
  {
   "cell_type": "code",
   "execution_count": null,
   "outputs": [],
   "source": [],
   "metadata": {
    "collapsed": false
   }
  }
 ],
 "metadata": {
  "kernelspec": {
   "display_name": "Python 3",
   "language": "python",
   "name": "python3"
  },
  "language_info": {
   "codemirror_mode": {
    "name": "ipython",
    "version": 2
   },
   "file_extension": ".py",
   "mimetype": "text/x-python",
   "name": "python",
   "nbconvert_exporter": "python",
   "pygments_lexer": "ipython2",
   "version": "2.7.6"
  }
 },
 "nbformat": 4,
 "nbformat_minor": 0
}
